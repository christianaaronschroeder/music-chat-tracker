{
 "cells": [
  {
   "cell_type": "code",
   "execution_count": 14,
   "id": "12fae2ed-61bb-46bf-8245-c8d09f93d58f",
   "metadata": {},
   "outputs": [],
   "source": [
    "from bs4 import BeautifulSoup\n",
    "import re\n",
    "import os\n",
    "import spotipy\n",
    "from spotipy.oauth2 import SpotifyOAuth\n",
    "from datetime import datetime\n",
    "import logging\n",
    "\n",
    "logger = logging.getLogger()\n",
    "logger.setLevel(logging.INFO)"
   ]
  },
  {
   "cell_type": "markdown",
   "id": "19dd8348-b236-42ac-b582-fc5673db15ff",
   "metadata": {},
   "source": [
    "# Export the latest messages to html\n",
    "Using a message exporter copied from here, https://github.com/cfinke/OSX-Messages-Exporter, we can export the transcript of the music chat with some filtering.\n",
    "\n",
    "Exporter Arguments:\n",
    "```\n",
    "$ messages-exporter.php [-o|--output_directory output_directory]\n",
    "                        [-f|--flush]\n",
    "                        Optionally, flush the existing backup database, essentially starting over from scratch.\n",
    "                        [-r|--rebuild]\n",
    "                        Optionally, rebuild the HTML files from the existing database.\n",
    "                        [-d|--database /path/to/chat/database]\n",
    "                        Specify an alternate database file (i.e. another chat.db from a backup)\n",
    "                        [--date-start YYYY-MM-DD]\n",
    "                        Optionally, specify the first date that should be queried from the Messages database.\n",
    "                        [--date-stop YYYY-MM-DD]\n",
    "                        Optionally, specify the last date that should be queried from the Messages database.\n",
    "                        [-t|--timezone \"America/Los_Angeles\"]\n",
    "                        Optionally, supply a timezone to use for any dates and times that are displayed. Defaults to UTC.\n",
    "                        [-p|--path-template \"%Y-%m-%d - _CHAT_TITLE_\"]\n",
    "                        Optionally, supply a strftime-style format string to use for the exported chat files. **Use _CHAT_TITLE_ for the name of the chat.** For example, you can separate your chats into yearly files by using `--path-template \"%Y - _CHAT_TITLE_\"` or monthly files by using `--path-template \"%Y-%m - _CHAT_TITLE_\"`. You may also wish to use the date as a suffix so that chats from the same person are all organized together in Finder, in which case you might use `--path-template \"_CHAT_TITLE_ - %Y-%m-%d\"`\n",
    "                        [--match \"Conversation Title\"]\n",
    "                        Limit the output to conversations that include this argument somewhere in their title.\n",
    "                        [--match_regex \"/^Conversation Title$/\"]\n",
    "                        Limit the output to conversations whose titles match this regular expression.\n",
    "\n",
    "```"
   ]
  },
  {
   "cell_type": "markdown",
   "id": "48afe023-5101-4417-a2cb-cb8e041b39ae",
   "metadata": {},
   "source": [
    "### Required args"
   ]
  },
  {
   "cell_type": "code",
   "execution_count": 15,
   "id": "8512b2cd-bd66-41af-8b00-0db3ced3d1b0",
   "metadata": {},
   "outputs": [],
   "source": [
    "SCRIPT_PATH = \"messages-exporter-copy.php\"\n",
    "# this is the name of the music chat in MY local chat database. Passing in the given chat name, \"Music (A Little Spam)\" will not work. Idk why some are contacts and some aren't\n",
    "MUSIC_CHAT_NAME = \"+15404495562, +15405531247, +15405778447, Ideen Ashraf, Jeffrey Smith, Josh Sternfeld, Marshall Hurst, Rustin Ahmadian, Wiatt Bingley\"\n",
    "output_dir = \"music_chat_exports\"\n",
    "filter_start_date = \"2024-06-20\" # YYYY-MM-DD format\n",
    "filter_stop_date = datetime.today().strftime('%Y-%m-%d') # YYYY-MM-DD format"
   ]
  },
  {
   "cell_type": "markdown",
   "id": "b870eb6b-a7fa-4453-a877-fa7901845cb5",
   "metadata": {},
   "source": [
    "### Run the messages exporter"
   ]
  },
  {
   "cell_type": "code",
   "execution_count": 16,
   "id": "62a37cf2-0840-41a7-b658-30e2912d8f53",
   "metadata": {},
   "outputs": [
    {
     "name": "stderr",
     "output_type": "stream",
     "text": [
      "INFO:root:Transcript successfully exported to music_chat_exports/music_chat_backup_2024-06-20_2024-07-01.html\n"
     ]
    }
   ],
   "source": [
    "# Define the arguments in a dictionary\n",
    "args = {\n",
    "    \"--output_directory\": output_dir,\n",
    "    \"--path-template\": f\"music_chat_backup_{filter_start_date}_{filter_stop_date if filter_stop_date else datetime.today().strftime('%Y-%m-%d')}\",\n",
    "    \"--date-start\": filter_start_date,\n",
    "    \"--date-stop\": filter_stop_date,\n",
    "    \"--match\": MUSIC_CHAT_NAME,\n",
    "}\n",
    "\n",
    "# Construct the command string\n",
    "command = f\"php {SCRIPT_PATH}\"\n",
    "for arg_name,value in args.items():\n",
    "    if value is not None:\n",
    "        command += f' {arg_name}=\"{value}\"'\n",
    "        \n",
    "# call the command\n",
    "!{command}\n",
    "\n",
    "# double check the file was created\n",
    "expected_output_path = os.path.join(args[\"--output_directory\"], args[\"--path-template\"] + \".html\")\n",
    "assert os.path.isfile(expected_output_path), FileNotFoundError(f\"No file was exported to {expected_output_path}\")\n",
    "logging.info(f\"Transcript successfully exported to {expected_output_path}\")"
   ]
  },
  {
   "cell_type": "markdown",
   "id": "a30cf6bb-318a-4770-bc04-407b40d6b6c3",
   "metadata": {},
   "source": [
    "# Update the playlist\n",
    "Now we use the transcript we just exported to extract all Spotify track links sent within the filtered time frame. These tracks are then checked against the current list of tracks in the playlist, and any new ones are added to the playlist. Then we update the playlist description to reflect when it was last updated.\n",
    "\n",
    "NOTE: We only add tracks that were sent in the chat to the playlist. Links to albums, artists, playlists, etc. are ignored."
   ]
  },
  {
   "cell_type": "markdown",
   "id": "db7c661f-4942-48a2-8bbf-02f70e520e98",
   "metadata": {},
   "source": [
    "### Load in the export"
   ]
  },
  {
   "cell_type": "code",
   "execution_count": 17,
   "id": "08c35125-00e8-4b96-94e7-874ca9f4d489",
   "metadata": {},
   "outputs": [
    {
     "name": "stderr",
     "output_type": "stream",
     "text": [
      "INFO:root:Conversation loaded: Conversation: music_chat_backup_2024-06-20_2024-07-01\n"
     ]
    }
   ],
   "source": [
    "with open(expected_output_path, 'r') as file:\n",
    "    html_str = file.read()\n",
    "soup = BeautifulSoup(html_str, 'html.parser')\n",
    "logging.info(f\"Conversation loaded: {soup.title.text}\")"
   ]
  },
  {
   "cell_type": "markdown",
   "id": "a33fa65f-5193-491a-b6a2-e1133146a5e5",
   "metadata": {},
   "source": [
    "### Filter out all tracks"
   ]
  },
  {
   "cell_type": "code",
   "execution_count": 18,
   "id": "f7928c2b-dc1f-4d71-9295-a9d45e3cb1f4",
   "metadata": {},
   "outputs": [
    {
     "name": "stderr",
     "output_type": "stream",
     "text": [
      "INFO:root:51 Spotify track urls found\n",
      "INFO:root:49 Unique IDs found\n"
     ]
    }
   ],
   "source": [
    "# Find all <p> tags with class 'm' that contain links starting with 'https://open.spotify/track'\n",
    "html_links = soup.find_all('p', class_='m', string=re.compile(r'^https://open.spotify.com/track'))\n",
    "spotify_track_urls = [link.text.strip() for link in html_links]\n",
    "logging.info(f\"{len(spotify_track_urls)} Spotify track urls found\")\n",
    "\n",
    "track_ids = [url.split('/')[-1].split('?')[0] for url in spotify_track_urls]\n",
    "\n",
    "\n",
    "# Filter to only unique track ids\n",
    "# We don't use a set here so that we can maintain the chronological order that the tracks were sent in\n",
    "unique_ids = []\n",
    "for track_id in track_ids:\n",
    "    if track_id not in unique_ids:\n",
    "        unique_ids.append(track_id)\n",
    "\n",
    "logging.info(f\"{len(unique_ids)} Unique IDs found\")"
   ]
  },
  {
   "cell_type": "markdown",
   "id": "e9bc88e5-d4aa-4f2e-8c23-7542d6028c0b",
   "metadata": {},
   "source": [
    "### Build the Spotify API connection"
   ]
  },
  {
   "cell_type": "code",
   "execution_count": 19,
   "id": "6ba5ddb0-3f23-47c1-afde-bc7774dad5c0",
   "metadata": {},
   "outputs": [
    {
     "name": "stdout",
     "output_type": "stream",
     "text": [
      "The dotenv extension is already loaded. To reload it, use:\n",
      "  %reload_ext dotenv\n"
     ]
    }
   ],
   "source": [
    "# how we use dotenv in a jupyter notebook\n",
    "%load_ext dotenv\n",
    "%dotenv\n",
    "    \n",
    "SPOTIFY_CLIENT_ID = os.getenv('SPOTIFY_CLIENT_ID')\n",
    "SPOTIFY_CLIENT_SECRET = os.getenv('SPOTIFY_CLIENT_SECRET')\n",
    "SPOTIFY_REDIRECT_URI = os.getenv('SPOTIFY_REDIRECT_URI')"
   ]
  },
  {
   "cell_type": "code",
   "execution_count": 20,
   "id": "1822fa58-4acb-40e5-9bc6-9d7fea81ce5b",
   "metadata": {},
   "outputs": [],
   "source": [
    "# Authentication flow with Spotify\n",
    "sp = spotipy.Spotify(\n",
    "    auth_manager=SpotifyOAuth(\n",
    "        client_id=SPOTIFY_CLIENT_ID,\n",
    "        client_secret=SPOTIFY_CLIENT_SECRET,\n",
    "        redirect_uri=SPOTIFY_REDIRECT_URI, # This should match the redirect URI in your Spotify Developer Dashboard\n",
    "        scope='playlist-modify-public'\n",
    "    )\n",
    ")"
   ]
  },
  {
   "cell_type": "markdown",
   "id": "c54b467b-7114-4368-80e0-7298aa48d474",
   "metadata": {},
   "source": [
    "### Load the tracks currently in the playlist"
   ]
  },
  {
   "cell_type": "code",
   "execution_count": 21,
   "id": "efd8f23e-c1e8-4125-9523-f5140734b8dc",
   "metadata": {},
   "outputs": [],
   "source": [
    "playlist_id = \"7hVMUyFFi6bNtjO4hubtJm\""
   ]
  },
  {
   "cell_type": "code",
   "execution_count": null,
   "id": "a18e2e8b-9ce4-4e7a-a14b-5520c3e0a090",
   "metadata": {},
   "outputs": [
    {
     "name": "stderr",
     "output_type": "stream",
     "text": [
      "INFO:root:loading tracks 0 to 100 from playlist 7hVMUyFFi6bNtjO4hubtJm\n",
      "INFO:root:100 tracks loaded\n",
      "INFO:root:loading tracks 100 to 200 from playlist 7hVMUyFFi6bNtjO4hubtJm\n",
      "INFO:root:100 tracks loaded\n",
      "INFO:root:loading tracks 200 to 300 from playlist 7hVMUyFFi6bNtjO4hubtJm\n",
      "INFO:root:100 tracks loaded\n",
      "INFO:root:loading tracks 300 to 400 from playlist 7hVMUyFFi6bNtjO4hubtJm\n",
      "INFO:root:100 tracks loaded\n",
      "INFO:root:loading tracks 400 to 500 from playlist 7hVMUyFFi6bNtjO4hubtJm\n",
      "INFO:root:100 tracks loaded\n",
      "ERROR:root:Failed to get track ID from: {'added_at': '2024-06-28T16:39:52Z', 'added_by': {'external_urls': {'spotify': 'https://open.spotify.com/user/12161293301'}, 'href': 'https://api.spotify.com/v1/users/12161293301', 'id': '12161293301', 'type': 'user', 'uri': 'spotify:user:12161293301'}, 'is_local': False, 'primary_color': None, 'track': None, 'video_thumbnail': {'url': None}}\n",
      "INFO:root:loading tracks 500 to 600 from playlist 7hVMUyFFi6bNtjO4hubtJm\n",
      "INFO:root:100 tracks loaded\n",
      "INFO:root:loading tracks 600 to 700 from playlist 7hVMUyFFi6bNtjO4hubtJm\n"
     ]
    }
   ],
   "source": [
    "existing_track_ids = []\n",
    "limit = 100 # can't go higher\n",
    "offset_mult = 0 # offset multiplier\n",
    "while True:\n",
    "    offset = offset_mult*100\n",
    "    logging.info(f\"loading tracks {offset} to {offset+limit} from playlist {playlist_id}\")\n",
    "    existing_tracks_chunk = sp.playlist_items(playlist_id, fields=[\"items\"], limit=limit, offset=offset)[\"items\"]\n",
    "    logging.info(f\"{len(existing_tracks_chunk)} tracks loaded\")\n",
    "\n",
    "    # if no tracks left, stop loading them\n",
    "    if len(existing_tracks_chunk) == 0:\n",
    "        break\n",
    "    \n",
    "    existing_ids = []\n",
    "    for track in existing_tracks_chunk:\n",
    "        try:\n",
    "            id = track[\"track\"][\"id\"]\n",
    "            existing_track_ids.append(id)\n",
    "        except Exception as e:\n",
    "            logging.error(f\"Failed to get track ID from: {track}\")\n",
    "\n",
    "    # if the there were less than 100 tracks loaded, don't bother trying again\n",
    "    if len(existing_tracks_chunk) < limit:\n",
    "        break\n",
    "\n",
    "    offset_mult+=1\n",
    "\n",
    "logging.info(f\"{len(existing_track_ids)} tracks currently in playlist {playlist_id}\")"
   ]
  },
  {
   "cell_type": "markdown",
   "id": "76eef5c5-0872-40dc-aa02-f4a1ba836f02",
   "metadata": {},
   "source": [
    "### Get list of new tracks to add"
   ]
  },
  {
   "cell_type": "code",
   "execution_count": 32,
   "id": "b0d160e0-01b5-4f08-acd9-e7472ba84651",
   "metadata": {},
   "outputs": [
    {
     "name": "stderr",
     "output_type": "stream",
     "text": [
      "INFO:root:21 tracks found that are not in the playlist\n"
     ]
    }
   ],
   "source": [
    "track_ids_not_in_playlist = [track_id for track_id in track_ids if track_id not in existing_track_ids]\n",
    "logging.info(f\"{len(track_ids_not_in_playlist)} tracks found that are not in the playlist\")"
   ]
  },
  {
   "cell_type": "markdown",
   "id": "ecaf7160-cbbf-4733-a90a-537f83db0496",
   "metadata": {},
   "source": [
    "### Add the new tracks to the playlist"
   ]
  },
  {
   "cell_type": "code",
   "execution_count": 33,
   "id": "fdf3b092-b939-44d6-a035-a98195bf9953",
   "metadata": {},
   "outputs": [],
   "source": [
    "# Create URIs because that is what the API expects\n",
    "track_uris_to_add = [f'spotify:track:{track_id}' for track_id in track_ids_not_in_playlist]"
   ]
  },
  {
   "cell_type": "code",
   "execution_count": 34,
   "id": "41eec183-453f-4346-9244-e47b45781e60",
   "metadata": {},
   "outputs": [
    {
     "name": "stderr",
     "output_type": "stream",
     "text": [
      "INFO:root:1 chunks made\n",
      "INFO:root:Tried to add 21 tracks to playlist 7hVMUyFFi6bNtjO4hubtJm\n",
      "INFO:root:You can view your playlist here: https://open.spotify.com/playlist/7hVMUyFFi6bNtjO4hubtJm\n"
     ]
    },
    {
     "name": "stdout",
     "output_type": "stream",
     "text": [
      "You can view your playlist here: https://open.spotify.com/playlist/7hVMUyFFi6bNtjO4hubtJm\n"
     ]
    }
   ],
   "source": [
    "def chunk(_list, size):\n",
    "    for i in range(0, len(_list), size):  \n",
    "        yield _list[i:i + size] \n",
    "\n",
    "# Need to chunk the uris because we can only add 100 at a time\n",
    "chunked = list(chunk(track_uris_to_add, 100))\n",
    "logging.info(f\"{len(chunked)} chunks made\")\n",
    "# Add tracks to the playlist\n",
    "for chunk in chunked:\n",
    "    x = sp.playlist_add_items(playlist_id, chunk)\n",
    "    logging.info(f\"Tried to add {len(chunk)} tracks to playlist {playlist_id}\")\n",
    "\n",
    "logging.info(f'You can view your playlist here: https://open.spotify.com/playlist/{playlist_id}')\n",
    "\n",
    "# update the playlist details\n",
    "new_description = f'All songs sent in the \"Music (A Little Spam)\" group chat since I was added. Last updated on {filter_stop_date}.'\n",
    "sp.playlist_change_details(playlist_id, description=new_description)\n",
    "\n",
    "print(f'You can view your playlist here: https://open.spotify.com/playlist/{playlist_id}')"
   ]
  },
  {
   "cell_type": "code",
   "execution_count": null,
   "id": "b02b080b-ad2e-4008-8feb-939b7a092bc6",
   "metadata": {},
   "outputs": [],
   "source": []
  },
  {
   "cell_type": "code",
   "execution_count": null,
   "id": "ebc8b67e-8f13-443a-b44c-8367b671a9b5",
   "metadata": {},
   "outputs": [],
   "source": []
  }
 ],
 "metadata": {
  "kernelspec": {
   "display_name": "Python 3 (ipykernel)",
   "language": "python",
   "name": "python3"
  },
  "language_info": {
   "codemirror_mode": {
    "name": "ipython",
    "version": 3
   },
   "file_extension": ".py",
   "mimetype": "text/x-python",
   "name": "python",
   "nbconvert_exporter": "python",
   "pygments_lexer": "ipython3",
   "version": "3.9.6"
  }
 },
 "nbformat": 4,
 "nbformat_minor": 5
}
